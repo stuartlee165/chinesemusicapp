{
 "cells": [
  {
   "cell_type": "code",
   "execution_count": 1,
   "id": "7e36a54e",
   "metadata": {
    "ExecuteTime": {
     "end_time": "2022-02-28T16:58:43.398560Z",
     "start_time": "2022-02-28T16:58:42.481286Z"
    }
   },
   "outputs": [],
   "source": [
    "import pandas as pd\n",
    "import numpy as np\n",
    "import random\n",
    "import time\n",
    "\n",
    "\n",
    "# Spotipy API Package\n",
    "import spotipy\n",
    "from spotipy.oauth2 import SpotifyClientCredentials\n",
    "from spotipy.oauth2 import SpotifyOAuth\n",
    "\n",
    "# other\n",
    "import ipywidgets as widgets\n",
    "from IPython.display import display\n",
    "from IPython.core.display import HTML\n",
    "from ipywidgets import HTML as HTML2\n",
    "from ipywidgets import GridspecLayout, Button, Layout"
   ]
  },
  {
   "cell_type": "code",
   "execution_count": 2,
   "id": "c11d8240",
   "metadata": {
    "ExecuteTime": {
     "end_time": "2022-02-28T16:58:43.402658Z",
     "start_time": "2022-02-28T16:58:43.400804Z"
    }
   },
   "outputs": [],
   "source": [
    "# df_tracks_master_clean3_lyrics_genre_hsk_v3 = pd.read_csv(\n",
    "#     '/Users/stuart/Desktop/Spoty-Linguist-Project/df_tracks_master_clean3_lyrics_genre_hsk_v2.csv',\n",
    "#     sep=',',\n",
    "#     index_col=0)"
   ]
  },
  {
   "cell_type": "code",
   "execution_count": 3,
   "id": "b2832acd",
   "metadata": {
    "ExecuteTime": {
     "end_time": "2022-02-28T16:58:43.410224Z",
     "start_time": "2022-02-28T16:58:43.407928Z"
    }
   },
   "outputs": [],
   "source": [
    "# df = df_tracks_master_clean3_lyrics_genre_hsk_v3"
   ]
  },
  {
   "cell_type": "code",
   "execution_count": 4,
   "id": "2685e177",
   "metadata": {
    "ExecuteTime": {
     "end_time": "2022-02-28T16:58:43.487554Z",
     "start_time": "2022-02-28T16:58:43.411924Z"
    },
    "scrolled": false
   },
   "outputs": [
    {
     "data": {
      "application/vnd.jupyter.widget-view+json": {
       "model_id": "da63866c332b4031b72764dd16c4bfc8",
       "version_major": 2,
       "version_minor": 0
      },
      "text/plain": [
       "GridspecLayout(children=(GridspecLayout(children=(Button(button_style='info', description='HSK 1', layout=Layo…"
      ]
     },
     "metadata": {},
     "output_type": "display_data"
    },
    {
     "data": {
      "application/vnd.jupyter.widget-view+json": {
       "model_id": "ba38acc1f48144259f4c0e16200efe7b",
       "version_major": 2,
       "version_minor": 0
      },
      "text/plain": [
       "Output()"
      ]
     },
     "metadata": {},
     "output_type": "display_data"
    }
   ],
   "source": [
    "output = widgets.Output()\n",
    "\n",
    "\n",
    "def create_expanded_button(description, button_style):\n",
    "    return Button(description=description, button_style=button_style, layout=Layout(height='auto', width='auto'))\n",
    "\n",
    "grid = GridspecLayout(3, 3)\n",
    "\n",
    "def HSK1_button(x):\n",
    "    global HSK_choice\n",
    "    HSK_choice = 1\n",
    "    return HSK_choice\n",
    "\n",
    "def HSK2_button(x):\n",
    "    global HSK_choice\n",
    "    HSK_choice = 2\n",
    "    return HSK_choice\n",
    "\n",
    "def HSK3_button(x):\n",
    "    global HSK_choice\n",
    "    HSK_choice = 3\n",
    "    return HSK_choice\n",
    "\n",
    "def HSK4_button(x):\n",
    "    global HSK_choice\n",
    "    HSK_choice = 4\n",
    "    return HSK_choice\n",
    "\n",
    "def HSK5_button(x):\n",
    "    global HSK_choice\n",
    "    HSK_choice = 5\n",
    "    print(5)\n",
    "    return HSK_choice\n",
    "\n",
    "def HSK6_button(x):\n",
    "    global HSK_choice\n",
    "    HSK_choice = 6\n",
    "    return HSK_choice  \n",
    "\n",
    "@output.capture(clear_output=False,wait=True)\n",
    "def on_button_clicked(b):\n",
    "    return display(widgets.HTML(\n",
    "    value='<iframe src=\"https://open.spotify.com/embed/playlist/5IgEf6pGG8q565BqhApd7x?utm_source=generator\" width=\"100%\" height=\"380\" frameBorder=\"0\" allowfullscreen=\"\" allow=\"autoplay; clipboard-write; encrypted-media; fullscreen; picture-in-picture\"></iframe>',\n",
    ")), print('test')\n",
    "\n",
    "grid[0,0] = create_expanded_button('HSK 1', 'info')\n",
    "grid[0,0].on_click(HSK1_button)\n",
    "\n",
    "grid[0,1] = create_expanded_button('HSK 2', 'info')\n",
    "grid[0,1].on_click(HSK2_button)\n",
    "\n",
    "grid[0,2] = create_expanded_button('HSK 3', 'success')\n",
    "grid[0,2].on_click(HSK3_button)\n",
    "\n",
    "grid[1,0] = create_expanded_button('HSK 4', 'success')\n",
    "grid[1,0].on_click(HSK4_button)\n",
    "\n",
    "grid[1,1] = create_expanded_button('HSK 5', 'warning')\n",
    "grid[1,1].on_click(HSK5_button)\n",
    "\n",
    "grid[1,2] = create_expanded_button('HSK 6', 'danger')\n",
    "grid[1,2].on_click(HSK6_button)\n",
    "\n",
    "\n",
    "# Play Button\n",
    "play_button = widgets.Button(description=\"Play Song\")\n",
    "create_play_list_button = widgets.Button(description=\"Create Playlist\")\n",
    "play_button.on_click(on_button_clicked)\n",
    "\n",
    "grid_master = GridspecLayout(4, 20, height='500px')\n",
    "\n",
    "grid_master[0:2,0:19] = grid\n",
    "\n",
    "grid_master[2,0:7] = play_button\n",
    "grid_master[2,8:] = create_play_list_button\n",
    "\n",
    "\n",
    "\n",
    "\n",
    "\n",
    "display(grid_master)\n",
    "output\n"
   ]
  },
  {
   "cell_type": "code",
   "execution_count": null,
   "id": "a94fcc3d",
   "metadata": {},
   "outputs": [],
   "source": []
  },
  {
   "cell_type": "code",
   "execution_count": null,
   "id": "abcf4e06",
   "metadata": {},
   "outputs": [],
   "source": []
  }
 ],
 "metadata": {
  "kernelspec": {
   "display_name": "env_chinesemusicapp",
   "language": "python",
   "name": "env_chinesemusicapp"
  },
  "language_info": {
   "codemirror_mode": {
    "name": "ipython",
    "version": 3
   },
   "file_extension": ".py",
   "mimetype": "text/x-python",
   "name": "python",
   "nbconvert_exporter": "python",
   "pygments_lexer": "ipython3",
   "version": "3.8.2"
  },
  "toc": {
   "base_numbering": 1,
   "nav_menu": {},
   "number_sections": true,
   "sideBar": true,
   "skip_h1_title": false,
   "title_cell": "Table of Contents",
   "title_sidebar": "Contents",
   "toc_cell": false,
   "toc_position": {},
   "toc_section_display": true,
   "toc_window_display": false
  },
  "varInspector": {
   "cols": {
    "lenName": 16,
    "lenType": 16,
    "lenVar": 40
   },
   "kernels_config": {
    "python": {
     "delete_cmd_postfix": "",
     "delete_cmd_prefix": "del ",
     "library": "var_list.py",
     "varRefreshCmd": "print(var_dic_list())"
    },
    "r": {
     "delete_cmd_postfix": ") ",
     "delete_cmd_prefix": "rm(",
     "library": "var_list.r",
     "varRefreshCmd": "cat(var_dic_list()) "
    }
   },
   "types_to_exclude": [
    "module",
    "function",
    "builtin_function_or_method",
    "instance",
    "_Feature"
   ],
   "window_display": false
  }
 },
 "nbformat": 4,
 "nbformat_minor": 5
}
